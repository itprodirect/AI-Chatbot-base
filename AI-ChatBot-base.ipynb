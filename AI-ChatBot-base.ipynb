{
 "cells": [
  {
   "cell_type": "code",
   "execution_count": 67,
   "id": "b91eec0c",
   "metadata": {},
   "outputs": [],
   "source": [
    "import openai\n",
    "from dotenv import dotenv_values\n",
    "import argparse"
   ]
  },
  {
   "cell_type": "code",
   "execution_count": 68,
   "id": "dba9c278",
   "metadata": {},
   "outputs": [],
   "source": [
    "config = dotenv_values('.env')\n",
    "openai.api_key = config['OPENAI_API_KEY']"
   ]
  },
  {
   "cell_type": "code",
   "execution_count": 69,
   "id": "1c261e8f",
   "metadata": {},
   "outputs": [],
   "source": [
    "# Color and bold features to help distiguish user from chatbot\n",
    "\n",
    "def bold(text):\n",
    "    bold_start = \"\\033[1m\"\n",
    "    bold_end = \"\\033[0m]\"\n",
    "    return bold_start + text + bold_end\n",
    "\n",
    "def blue(text):\n",
    "    blue_start = \"\\033[34m\"\n",
    "    blue_end = \"\\033[0m\"\n",
    "    return blue_start + text +blue_end\n",
    "\n",
    "def red(text):\n",
    "    red_start = \"\\033[31m\"\n",
    "    red_end = \"\\033[0m\"\n",
    "    return red_start + text + red_end"
   ]
  },
  {
   "cell_type": "code",
   "execution_count": null,
   "id": "a02ccda6",
   "metadata": {},
   "outputs": [
    {
     "name": "stdout",
     "output_type": "stream",
     "text": [
      "Enter a brief summary of the chatbot's personality: \n",
      "Personality: friendly and helpful chatbot\n",
      "You: ]what is up?\n",
      "\u001b[1m\u001b[31mAssistant: \u001b[0m\u001b[0m] Hello! I'm here to assist you with whatever you need. If you have any questions or require help with something, feel free to ask!\n",
      "You: ]Was just checking something, you already helped more than you know!!!\n",
      "\u001b[1m\u001b[31mAssistant: \u001b[0m\u001b[0m] I'm glad to hear that I could assist you! If you have any more questions or need help in the future, don't hesitate to reach out. It's what I'm here for!\n"
     ]
    }
   ],
   "source": [
    "def main():\n",
    "    \n",
    "    # User input for user's to ask for the type of personality they want from their custom chatbot\n",
    "    personality = input(\"Enter a brief summary of the chatbot's personality: \")\n",
    "    if personality == '':\n",
    "        personality = 'friendly and helpful chatbot'\n",
    "    print(f\"Personality: {personality}\")\n",
    "    \n",
    "    ## Command line version of the user input\n",
    "    # parser = argparse.ArgumentParser(description='Simple jupyter command line chatbot with GPT-4')\n",
    "    # parser.add_argument(\"--personality', type=str, help='A brief summary \n",
    "    # of the chatbot's personality\", default='friendly and helpful chatbot')\n",
    "    # args = parser.parse_args()\n",
    "    # args.personality\n",
    "\n",
    "    # inital prompt to set system message\n",
    "    initial_prompt = f\"You are a conversational chatbot. Your personality is: {personality}\"\n",
    "    messages = [{\"role\": \"system\", \"content\": initial_prompt}]\n",
    "    res = None\n",
    "    while True:\n",
    "        try:\n",
    "            user_input = input(bold(blue(\"You: \")))\n",
    "            messages.append({'role': 'user', 'content': user_input})\n",
    "            res = openai.ChatCompletion.create(\n",
    "                model='gpt-4-0613',\n",
    "                messages=messages\n",
    "            )\n",
    "        \n",
    "            messages.append(res['choices'][0]['message'].to_dict())\n",
    "            print(bold(red('Assistant: ')),res['choices'][0]['message']['content'])\n",
    " \n",
    "        \n",
    "        except KeyboardInterrupt:\n",
    "            print('Exiting...')\n",
    "            break \n",
    "        \n",
    "    print(res)\n",
    "\n",
    "if __name__ == '__main__':\n",
    "    main()"
   ]
  },
  {
   "cell_type": "code",
   "execution_count": null,
   "id": "350f2032",
   "metadata": {},
   "outputs": [],
   "source": []
  },
  {
   "cell_type": "code",
   "execution_count": null,
   "id": "9b20d029",
   "metadata": {},
   "outputs": [],
   "source": []
  },
  {
   "cell_type": "code",
   "execution_count": null,
   "id": "a8825597",
   "metadata": {},
   "outputs": [],
   "source": []
  }
 ],
 "metadata": {
  "kernelspec": {
   "display_name": "Python 3 (ipykernel)",
   "language": "python",
   "name": "python3"
  },
  "language_info": {
   "codemirror_mode": {
    "name": "ipython",
    "version": 3
   },
   "file_extension": ".py",
   "mimetype": "text/x-python",
   "name": "python",
   "nbconvert_exporter": "python",
   "pygments_lexer": "ipython3",
   "version": "3.9.13"
  }
 },
 "nbformat": 4,
 "nbformat_minor": 5
}
